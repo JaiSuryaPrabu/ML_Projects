{
 "cells": [
  {
   "cell_type": "markdown",
   "metadata": {},
   "source": [
    "**IMPORTING**"
   ]
  },
  {
   "cell_type": "code",
   "execution_count": 1,
   "metadata": {},
   "outputs": [],
   "source": [
    "#importing libraries\n",
    "import tensorflow as tf\n",
    "from tensorflow.keras import layers,datasets,models\n",
    "import numpy as np\n",
    "import matplotlib.pyplot as plt"
   ]
  },
  {
   "cell_type": "markdown",
   "metadata": {},
   "source": [
    "**DATASETS**"
   ]
  },
  {
   "cell_type": "code",
   "execution_count": 29,
   "metadata": {},
   "outputs": [],
   "source": [
    "#getting dataset\n",
    "(train_images,train_labels),(test_images,test_labels) = datasets.mnist.load_data()\n",
    "#reshaping to 4D\n",
    "train_images = train_images.reshape(train_images.shape[0],28,28,1)\n",
    "test_images = test_images.reshape(test_images.shape[0],28,28,1)\n",
    "#changing the type float64 to float 32\n",
    "train_images = train_images.astype('float32')\n",
    "test_images = test_images.astype('float32')\n",
    "#converting to binary\n",
    "train_images /= 255.0\n",
    "test_images /= 255.0\n",
    "#input shape\n",
    "input_shape = (28,28,1)"
   ]
  },
  {
   "cell_type": "markdown",
   "metadata": {},
   "source": [
    "**CNN**"
   ]
  },
  {
   "cell_type": "code",
   "execution_count": 30,
   "metadata": {},
   "outputs": [],
   "source": [
    "#CNN is a sequential model\n",
    "model = models.Sequential()\n",
    "#adding 1st convolutional layer with relu activation function\n",
    "model.add(layers.Conv2D(28,(3,3),activation = 'relu',input_shape=input_shape))\n",
    "#adding 1st max pooling layer\n",
    "model.add(layers.MaxPooling2D((2,2)))\n",
    "#flattening to single row\n",
    "model.add(layers.Flatten())\n",
    "model.add(layers.Dense(128,activation = tf.nn.relu)) #another way of implementing relu \n",
    "#adding a regularization function\n",
    "model.add(layers.Dropout(0.2))\n",
    "#output layer\n",
    "model.add(layers.Dense(10,activation = tf.nn.softmax))\n"
   ]
  },
  {
   "cell_type": "markdown",
   "metadata": {},
   "source": [
    "**TRAINING**"
   ]
  },
  {
   "cell_type": "code",
   "execution_count": null,
   "metadata": {},
   "outputs": [],
   "source": [
    "model.compile(optimizer='adam',loss='sparse_categorical_crossentropy',metrics=['accuracy'])\n",
    "#training function\n",
    "model.fit(train_images,train_labels,epochs=10)"
   ]
  },
  {
   "cell_type": "markdown",
   "metadata": {},
   "source": [
    "**TESTING**"
   ]
  },
  {
   "cell_type": "code",
   "execution_count": null,
   "metadata": {},
   "outputs": [],
   "source": [
    "loss , accuracy = model.evaluate(test_images,test_labels,verbose=2)\n",
    "print(\"Accuracy : \",accuracy)#98.72 percentage"
   ]
  },
  {
   "cell_type": "markdown",
   "metadata": {},
   "source": [
    "**PREDICTING**"
   ]
  },
  {
   "cell_type": "code",
   "execution_count": null,
   "metadata": {},
   "outputs": [],
   "source": [
    "#getting random number \n",
    "import random\n",
    "random_number  = random.randint(0,1000)\n",
    "#getting random image from dataset\n",
    "image = test_images[random_number]\n",
    "#showing image in matplotlib\n",
    "plt.imshow(image)\n",
    "#adding dimensions for the image\n",
    "image = (np.expand_dims(image,0))\n",
    "#image.shape = (1,28,28, 1)\n",
    "#predicting the image\n",
    "prediction = model.predict(image)\n",
    "#getting the output\n",
    "number = np.argmax(prediction[0])\n",
    "#printing the number in x axis\n",
    "plt.xlabel(number)\n",
    "plt.show()"
   ]
  }
 ],
 "metadata": {
  "kernelspec": {
   "display_name": "Python 3.9.12 ('tf')",
   "language": "python",
   "name": "python3"
  },
  "language_info": {
   "codemirror_mode": {
    "name": "ipython",
    "version": 3
   },
   "file_extension": ".py",
   "mimetype": "text/x-python",
   "name": "python",
   "nbconvert_exporter": "python",
   "pygments_lexer": "ipython3",
   "version": "3.9.12"
  },
  "orig_nbformat": 4,
  "vscode": {
   "interpreter": {
    "hash": "2089dab6f43166edf993d0d1ff52405541a93a9179ff93c79f99fdcd2d6c805d"
   }
  }
 },
 "nbformat": 4,
 "nbformat_minor": 2
}
